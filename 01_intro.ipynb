{
 "cells": [
  {
   "cell_type": "markdown",
   "source": [
    "# Zoomcamp Homework - 01 intro"
   ],
   "metadata": {
    "collapsed": false
   },
   "id": "845821d5090d57b6"
  },
  {
   "cell_type": "markdown",
   "source": [
    "##Getting the data"
   ],
   "metadata": {
    "collapsed": false
   },
   "id": "658da709821be9e4"
  },
  {
   "cell_type": "code",
   "execution_count": 272,
   "outputs": [],
   "source": [
    "import pandas as pd\n",
    "import numpy as np\n",
    "\n",
    "df = pd.read_csv(\"housing.csv\", delimiter=',', low_memory=False)"
   ],
   "metadata": {
    "collapsed": false,
    "ExecuteTime": {
     "end_time": "2023-09-19T07:15:48.808542Z",
     "start_time": "2023-09-19T07:15:48.743522Z"
    }
   },
   "id": "initial_id"
  },
  {
   "cell_type": "markdown",
   "source": [
    "## Number of columns in dataframe"
   ],
   "metadata": {
    "collapsed": false
   },
   "id": "240e71e9ac5a5c53"
  },
  {
   "cell_type": "code",
   "execution_count": 273,
   "outputs": [
    {
     "data": {
      "text/plain": "(20640, 10)"
     },
     "execution_count": 273,
     "metadata": {},
     "output_type": "execute_result"
    }
   ],
   "source": [
    "df.shape"
   ],
   "metadata": {
    "collapsed": false,
    "ExecuteTime": {
     "end_time": "2023-09-19T07:15:48.815952Z",
     "start_time": "2023-09-19T07:15:48.769320Z"
    }
   },
   "id": "d069f9a3992dc41a"
  },
  {
   "cell_type": "markdown",
   "source": [
    "## Which columns in the dataset have missing values?"
   ],
   "metadata": {
    "collapsed": false
   },
   "id": "4193f210bdc316be"
  },
  {
   "cell_type": "code",
   "execution_count": 274,
   "outputs": [
    {
     "data": {
      "text/plain": "longitude               0\nlatitude                0\nhousing_median_age      0\ntotal_rooms             0\ntotal_bedrooms        207\npopulation              0\nhouseholds              0\nmedian_income           0\nmedian_house_value      0\nocean_proximity         0\ndtype: int64"
     },
     "execution_count": 274,
     "metadata": {},
     "output_type": "execute_result"
    }
   ],
   "source": [
    "df.isna().sum()"
   ],
   "metadata": {
    "collapsed": false,
    "ExecuteTime": {
     "end_time": "2023-09-19T07:15:48.818800Z",
     "start_time": "2023-09-19T07:15:48.771955Z"
    }
   },
   "id": "8377c65688e64ade"
  },
  {
   "cell_type": "markdown",
   "source": [
    "## How many unique values does the ocean_proximity column have?"
   ],
   "metadata": {
    "collapsed": false
   },
   "id": "beb88e7fb8265541"
  },
  {
   "cell_type": "code",
   "execution_count": 275,
   "outputs": [
    {
     "data": {
      "text/plain": "array(['NEAR BAY', '<1H OCEAN', 'INLAND', 'NEAR OCEAN', 'ISLAND'],\n      dtype=object)"
     },
     "execution_count": 275,
     "metadata": {},
     "output_type": "execute_result"
    }
   ],
   "source": [
    "df['ocean_proximity'].unique()"
   ],
   "metadata": {
    "collapsed": false,
    "ExecuteTime": {
     "end_time": "2023-09-19T07:15:48.819847Z",
     "start_time": "2023-09-19T07:15:48.778132Z"
    }
   },
   "id": "794dbcaeb36ee803"
  },
  {
   "cell_type": "markdown",
   "source": [
    "## What's the average value of the median_house_value for the houses located near the bay?"
   ],
   "metadata": {
    "collapsed": false
   },
   "id": "dbd0763aec5a26f5"
  },
  {
   "cell_type": "code",
   "execution_count": 276,
   "outputs": [
    {
     "data": {
      "text/plain": "count      2290.000000\nmean     259212.311790\nstd      122818.537064\nmin       22500.000000\n25%      162500.000000\n50%      233800.000000\n75%      345700.000000\nmax      500001.000000\nName: median_house_value, dtype: float64"
     },
     "execution_count": 276,
     "metadata": {},
     "output_type": "execute_result"
    }
   ],
   "source": [
    "df[df['ocean_proximity'] == 'NEAR BAY']['median_house_value'].describe()"
   ],
   "metadata": {
    "collapsed": false,
    "ExecuteTime": {
     "end_time": "2023-09-19T07:15:48.819905Z",
     "start_time": "2023-09-19T07:15:48.781658Z"
    }
   },
   "id": "77686df6e2785a6f"
  },
  {
   "cell_type": "markdown",
   "source": [
    "## Fill the missing values in total_bedrooms with the mean value"
   ],
   "metadata": {
    "collapsed": false
   },
   "id": "4968157f8b78d53c"
  },
  {
   "cell_type": "code",
   "execution_count": 277,
   "outputs": [
    {
     "data": {
      "text/plain": "537.8705525375617"
     },
     "execution_count": 277,
     "metadata": {},
     "output_type": "execute_result"
    }
   ],
   "source": [
    "df['total_bedrooms'].fillna(df['total_bedrooms'].mean(), inplace=True)\n",
    "df['total_bedrooms'].mean()"
   ],
   "metadata": {
    "collapsed": false,
    "ExecuteTime": {
     "end_time": "2023-09-19T07:15:48.820264Z",
     "start_time": "2023-09-19T07:15:48.786556Z"
    }
   },
   "id": "22898e016dfab957"
  },
  {
   "cell_type": "markdown",
   "source": [
    "## Apply Transposition\n",
    "\n",
    "1) Select all the options located on islands.\n",
    "2) Select only columns housing_median_age, total_rooms, total_bedrooms.\n",
    "3) Get the underlying NumPy array. Let's call it X.\n",
    "4) Compute matrix-matrix multiplication between the transpose of X and X. To get the transpose, use X.T. Let's call the result XTX.\n",
    "5) Compute the inverse of XTX.\n",
    "6) Create an array y with values [950, 1300, 800, 1000, 1300].\n",
    "7) Multiply the inverse of XTX with the transpose of X, and then multiply the result by y. Call the result w.\n",
    "8) What's the value of the last element of w?"
   ],
   "metadata": {
    "collapsed": false
   },
   "id": "8eaeaa20da996e7"
  },
  {
   "cell_type": "code",
   "execution_count": 278,
   "outputs": [
    {
     "data": {
      "text/plain": "(5, 3)"
     },
     "execution_count": 278,
     "metadata": {},
     "output_type": "execute_result"
    }
   ],
   "source": [
    "island = df[df['ocean_proximity'] == 'ISLAND']\n",
    "X = island[['housing_median_age', 'total_rooms', 'total_bedrooms']]\n",
    "X.shape"
   ],
   "metadata": {
    "collapsed": false,
    "ExecuteTime": {
     "end_time": "2023-09-19T07:15:48.820301Z",
     "start_time": "2023-09-19T07:15:48.791020Z"
    }
   },
   "id": "76b89bdf1ebc0533"
  },
  {
   "cell_type": "code",
   "execution_count": 279,
   "outputs": [],
   "source": [
    "XTX = np.dot(X.T, X)"
   ],
   "metadata": {
    "collapsed": false,
    "ExecuteTime": {
     "end_time": "2023-09-19T07:15:48.820319Z",
     "start_time": "2023-09-19T07:15:48.793183Z"
    }
   },
   "id": "6b0044438a572f04"
  },
  {
   "cell_type": "code",
   "execution_count": 280,
   "outputs": [
    {
     "data": {
      "text/plain": "      housing_median_age  total_rooms  total_bedrooms\n8314                27.0       1675.0           521.0\n8315                52.0       2359.0           591.0\n8316                52.0       2127.0           512.0\n8317                52.0        996.0           264.0\n8318                29.0        716.0           214.0",
      "text/html": "<div>\n<style scoped>\n    .dataframe tbody tr th:only-of-type {\n        vertical-align: middle;\n    }\n\n    .dataframe tbody tr th {\n        vertical-align: top;\n    }\n\n    .dataframe thead th {\n        text-align: right;\n    }\n</style>\n<table border=\"1\" class=\"dataframe\">\n  <thead>\n    <tr style=\"text-align: right;\">\n      <th></th>\n      <th>housing_median_age</th>\n      <th>total_rooms</th>\n      <th>total_bedrooms</th>\n    </tr>\n  </thead>\n  <tbody>\n    <tr>\n      <th>8314</th>\n      <td>27.0</td>\n      <td>1675.0</td>\n      <td>521.0</td>\n    </tr>\n    <tr>\n      <th>8315</th>\n      <td>52.0</td>\n      <td>2359.0</td>\n      <td>591.0</td>\n    </tr>\n    <tr>\n      <th>8316</th>\n      <td>52.0</td>\n      <td>2127.0</td>\n      <td>512.0</td>\n    </tr>\n    <tr>\n      <th>8317</th>\n      <td>52.0</td>\n      <td>996.0</td>\n      <td>264.0</td>\n    </tr>\n    <tr>\n      <th>8318</th>\n      <td>29.0</td>\n      <td>716.0</td>\n      <td>214.0</td>\n    </tr>\n  </tbody>\n</table>\n</div>"
     },
     "execution_count": 280,
     "metadata": {},
     "output_type": "execute_result"
    }
   ],
   "source": [
    "X.head(5)"
   ],
   "metadata": {
    "collapsed": false,
    "ExecuteTime": {
     "end_time": "2023-09-19T07:15:48.820577Z",
     "start_time": "2023-09-19T07:15:48.796316Z"
    }
   },
   "id": "7d8715940a94ec48"
  },
  {
   "cell_type": "code",
   "execution_count": 281,
   "outputs": [
    {
     "data": {
      "text/plain": "                      8314    8315    8316   8317   8318\nhousing_median_age    27.0    52.0    52.0   52.0   29.0\ntotal_rooms         1675.0  2359.0  2127.0  996.0  716.0\ntotal_bedrooms       521.0   591.0   512.0  264.0  214.0",
      "text/html": "<div>\n<style scoped>\n    .dataframe tbody tr th:only-of-type {\n        vertical-align: middle;\n    }\n\n    .dataframe tbody tr th {\n        vertical-align: top;\n    }\n\n    .dataframe thead th {\n        text-align: right;\n    }\n</style>\n<table border=\"1\" class=\"dataframe\">\n  <thead>\n    <tr style=\"text-align: right;\">\n      <th></th>\n      <th>8314</th>\n      <th>8315</th>\n      <th>8316</th>\n      <th>8317</th>\n      <th>8318</th>\n    </tr>\n  </thead>\n  <tbody>\n    <tr>\n      <th>housing_median_age</th>\n      <td>27.0</td>\n      <td>52.0</td>\n      <td>52.0</td>\n      <td>52.0</td>\n      <td>29.0</td>\n    </tr>\n    <tr>\n      <th>total_rooms</th>\n      <td>1675.0</td>\n      <td>2359.0</td>\n      <td>2127.0</td>\n      <td>996.0</td>\n      <td>716.0</td>\n    </tr>\n    <tr>\n      <th>total_bedrooms</th>\n      <td>521.0</td>\n      <td>591.0</td>\n      <td>512.0</td>\n      <td>264.0</td>\n      <td>214.0</td>\n    </tr>\n  </tbody>\n</table>\n</div>"
     },
     "execution_count": 281,
     "metadata": {},
     "output_type": "execute_result"
    }
   ],
   "source": [
    "X.T"
   ],
   "metadata": {
    "collapsed": false,
    "ExecuteTime": {
     "end_time": "2023-09-19T07:15:48.820686Z",
     "start_time": "2023-09-19T07:15:48.801145Z"
    }
   },
   "id": "d2eaf5e56c89780e"
  },
  {
   "cell_type": "code",
   "execution_count": 282,
   "outputs": [
    {
     "data": {
      "text/plain": "array([[9.6820000e+03, 3.5105300e+05, 9.1357000e+04],\n       [3.5105300e+05, 1.4399307e+07, 3.7720360e+06],\n       [9.1357000e+04, 3.7720360e+06, 9.9835800e+05]])"
     },
     "execution_count": 282,
     "metadata": {},
     "output_type": "execute_result"
    }
   ],
   "source": [
    "XTX"
   ],
   "metadata": {
    "collapsed": false,
    "ExecuteTime": {
     "end_time": "2023-09-19T07:15:48.820728Z",
     "start_time": "2023-09-19T07:15:48.803465Z"
    }
   },
   "id": "2bb5aabb7e661713"
  },
  {
   "cell_type": "code",
   "execution_count": 283,
   "outputs": [
    {
     "name": "stdout",
     "output_type": "stream",
     "text": [
      "Inverse Matrix:\n",
      "[[ 9.19403586e-04 -3.66412216e-05  5.43072261e-05]\n",
      " [-3.66412216e-05  8.23303633e-06 -2.77534485e-05]\n",
      " [ 5.43072261e-05 -2.77534485e-05  1.00891325e-04]]\n"
     ]
    }
   ],
   "source": [
    "def compute_inverse(X):\n",
    "    try:\n",
    "        inverse_matrix = np.linalg.inv(X)\n",
    "        print(\"Inverse Matrix:\")\n",
    "    except np.linalg.LinAlgError:\n",
    "        print(\"Matrix is singular; the inverse does not exist.\")\n",
    "    return inverse_matrix\n",
    "\n",
    "inverse_df = compute_inverse(XTX)\n",
    "print(inverse_df)"
   ],
   "metadata": {
    "collapsed": false,
    "ExecuteTime": {
     "end_time": "2023-09-19T07:15:48.820765Z",
     "start_time": "2023-09-19T07:15:48.806767Z"
    }
   },
   "id": "3e28ba7786093e71"
  },
  {
   "cell_type": "code",
   "execution_count": 284,
   "outputs": [],
   "source": [
    "y = [950, 1300, 800, 1000, 1300]"
   ],
   "metadata": {
    "collapsed": false,
    "ExecuteTime": {
     "end_time": "2023-09-19T07:15:48.820960Z",
     "start_time": "2023-09-19T07:15:48.809461Z"
    }
   },
   "id": "a81c5008112e7e22"
  },
  {
   "cell_type": "markdown",
   "source": [
    "a = np.dot(X.T, inverse_df)\n",
    "w = np.dot(a, y)\n",
    "\n",
    "print(w)"
   ],
   "metadata": {
    "collapsed": false
   },
   "id": "22bbd9e83629f596"
  },
  {
   "cell_type": "code",
   "execution_count": 285,
   "outputs": [
    {
     "name": "stdout",
     "output_type": "stream",
     "text": [
      "[23.12330961 -1.48124183  5.69922946]\n"
     ]
    }
   ],
   "source": [
    "# Calculate X_transpose_y (X transpose multiplied by y)\n",
    "X_transpose_y = np.dot(X.T, y)\n",
    "\n",
    "# Calculate w by multiplying XTX_inverse with X_transpose_y\n",
    "w = np.dot(inverse_df, X_transpose_y)\n",
    "\n",
    "print(w)"
   ],
   "metadata": {
    "collapsed": false,
    "ExecuteTime": {
     "end_time": "2023-09-19T07:15:48.824719Z",
     "start_time": "2023-09-19T07:15:48.810810Z"
    }
   },
   "id": "e5971394adb16372"
  },
  {
   "cell_type": "code",
   "execution_count": 285,
   "outputs": [],
   "source": [],
   "metadata": {
    "collapsed": false,
    "ExecuteTime": {
     "end_time": "2023-09-19T07:15:48.824741Z",
     "start_time": "2023-09-19T07:15:48.812364Z"
    }
   },
   "id": "6459662b6181cd81"
  }
 ],
 "metadata": {
  "kernelspec": {
   "display_name": "Python 3",
   "language": "python",
   "name": "python3"
  },
  "language_info": {
   "codemirror_mode": {
    "name": "ipython",
    "version": 2
   },
   "file_extension": ".py",
   "mimetype": "text/x-python",
   "name": "python",
   "nbconvert_exporter": "python",
   "pygments_lexer": "ipython2",
   "version": "2.7.6"
  }
 },
 "nbformat": 4,
 "nbformat_minor": 5
}
